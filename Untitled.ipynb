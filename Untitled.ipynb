{
 "cells": [
  {
   "cell_type": "code",
   "execution_count": null,
   "id": "ccae3ae4-76f9-45ac-a4b3-670f48b9cd5f",
   "metadata": {},
   "source": [
    "import os\n",
    "import numpy as np\n",
    "import nibabel as nib\n",
    "import matplotlib.pyplot as plt\n",
    "import seaborn as sns\n",
    "sns.set_style('darkgrid')\n",
    "\n",
    "# 设置数据目录和输出目录\n",
    "data_dir = r\"C:\\Users\\ziyu.zhao23\\Downloads\\dataset\\train\\use\"\n",
    "output_dir = r\"C:\\Users\\ziyu.zhao23\\Downloads\\dataset\\train\\output_images\"\n",
    "\n",
    "# 确保输出目录存在\n",
    "if not os.path.exists(output_dir):\n",
    "    os.makedirs(output_dir)\n",
    "\n",
    "# 获取目录下所有的nii.gz文件\n",
    "files = [f for f in os.listdir(data_dir) if f.endswith('.nii.gz')]\n",
    "\n",
    "# 打印发现的文件数量\n",
    "print(f'Found {len(files)} NIfTI files.')\n",
    "\n",
    "def load_and_save_slices(image_path):\n",
    "    try:\n",
    "        # 加载图像\n",
    "        image_obj = nib.load(image_path)\n",
    "        image_data = image_obj.get_fdata()\n",
    "        depth = image_data.shape[2]\n",
    "\n",
    "        # 获取文件名（不带扩展名）\n",
    "        base_name = os.path.splitext(os.path.basename(image_path))[0]\n",
    "\n",
    "        # 遍历每一层，并保存为jpg文件\n",
    "        for i in range(depth):\n",
    "            plt.imshow(image_data[:, :, i], cmap='gray')\n",
    "            plt.axis('off')\n",
    "            output_path = os.path.join(output_dir, f\"{base_name}_layer_{i}.jpg\")\n",
    "            plt.savefig(output_path, bbox_inches='tight', pad_inches=0)\n",
    "            plt.close()\n",
    "    except Exception as e:\n",
    "        print(f\"Failed to process {image_path}: {e}\")\n",
    "\n",
    "# 遍历所有nii.gz文件并加载和保存每一层\n",
    "for file in files:\n",
    "    load_and_save_slices(os.path.join(data_dir, file))\n",
    "\n",
    "print(\"All slices have been saved.\")"
   ],
   "outputs": []
  },
  {
   "cell_type": "code",
   "execution_count": null,
   "id": "907b273d-8114-4c0a-b4bc-bcd55d3352b5",
   "metadata": {},
   "source": [],
   "outputs": []
  }
 ],
 "metadata": {
  "kernelspec": {
   "display_name": "Python 3 (ipykernel)",
   "language": "python",
   "name": "python3"
  },
  "language_info": {
   "codemirror_mode": {
    "name": "ipython",
    "version": 3
   },
   "file_extension": ".py",
   "mimetype": "text/x-python",
   "name": "python",
   "nbconvert_exporter": "python",
   "pygments_lexer": "ipython3",
   "version": "3.12.2"
  }
 },
 "nbformat": 4,
 "nbformat_minor": 5
}
